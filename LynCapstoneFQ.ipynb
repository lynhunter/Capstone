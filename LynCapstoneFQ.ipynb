{
 "cells": [
  {
   "cell_type": "markdown",
   "metadata": {
    "button": false,
    "deletable": true,
    "new_sheet": false,
    "run_control": {
     "read_only": false
    }
   },
   "source": [
    "<h1 align=center>Lyn Hunter Capstone Summary</h1>"
   ]
  },
  {
   "cell_type": "markdown",
   "metadata": {
    "button": false,
    "deletable": true,
    "new_sheet": false,
    "run_control": {
     "read_only": false
    }
   },
   "source": [
    "   "
   ]
  },
  {
   "cell_type": "markdown",
   "metadata": {
    "button": false,
    "deletable": true,
    "new_sheet": false,
    "run_control": {
     "read_only": false
    }
   },
   "source": [
    "## Introduction\n",
    "\n",
    "My capstone project is for a client who wants to open two coffee shops in Milwaukee under the following parameters:\n",
    "1. not more than two miles from the center of town; \n",
    "2. within walking distance of at least two museums;\n",
    "3. no more than two coffee shops in a two block radius.\n",
    "\n",
    "## Data\n",
    "This analysis uses two different data sets\n",
    "1. Venues search for museums in the Milwaukee area\n",
    "2. Venues search for coffee shops in the Milwaukee area\n",
    "\n",
    "\n",
    "## Analysis\n",
    "The analysis uses a plot that contains several features:\n",
    "1. Plotted circle at the center of Milwaukee\n",
    "2. Plotted circles for museums\n",
    "3. Plotted circles for coffee shops\n",
    "\n",
    "Because the plot can be zoomed in, my client can find the exact street and building of suitable locations that meet her business parameters. \n"
   ]
  },
  {
   "cell_type": "markdown",
   "metadata": {
    "button": false,
    "deletable": true,
    "new_sheet": false,
    "run_control": {
     "read_only": false
    }
   },
   "source": [
    "### Main Steps\n",
    "1. Define geocoder and get Milwaukee's latitude and longitude\n",
    "2. Create a search query to return forsquare museum data for Milwaukee\n",
    "3. Create a search query to return forsquare coffee data for Milwaukee\n",
    "4. Get JSON data for both data sets\n",
    "5. Create a pandas dataframe for both data sets and normalize the data\n",
    "6. Format the data for better plotting\n",
    "7. Create the plot to examine the proximity of existing museums and coffee shops"
   ]
  },
  {
   "cell_type": "markdown",
   "metadata": {
    "button": false,
    "deletable": true,
    "new_sheet": false,
    "run_control": {
     "read_only": false
    }
   },
   "source": [
    "  "
   ]
  },
  {
   "cell_type": "markdown",
   "metadata": {
    "button": false,
    "deletable": true,
    "new_sheet": false,
    "run_control": {
     "read_only": false
    }
   },
   "source": [
    "   "
   ]
  },
  {
   "cell_type": "markdown",
   "metadata": {
    "button": false,
    "deletable": true,
    "new_sheet": false,
    "run_control": {
     "read_only": false
    }
   },
   "source": [
    "<a id=\"item1\"></a>"
   ]
  },
  {
   "cell_type": "markdown",
   "metadata": {
    "button": false,
    "deletable": true,
    "new_sheet": false,
    "run_control": {
     "read_only": false
    }
   },
   "source": [
    "   "
   ]
  },
  {
   "cell_type": "markdown",
   "metadata": {
    "button": false,
    "deletable": true,
    "new_sheet": false,
    "run_control": {
     "read_only": false
    }
   },
   "source": [
    "<a id=\"item2\"></a>"
   ]
  }
 ],
 "metadata": {
  "kernelspec": {
   "display_name": "Python",
   "language": "python",
   "name": "conda-env-python-py"
  },
  "language_info": {
   "codemirror_mode": {
    "name": "ipython",
    "version": 3
   },
   "file_extension": ".py",
   "mimetype": "text/x-python",
   "name": "python",
   "nbconvert_exporter": "python",
   "pygments_lexer": "ipython3",
   "version": "3.6.7"
  },
  "widgets": {
   "state": {},
   "version": "1.1.2"
  }
 },
 "nbformat": 4,
 "nbformat_minor": 4
}
